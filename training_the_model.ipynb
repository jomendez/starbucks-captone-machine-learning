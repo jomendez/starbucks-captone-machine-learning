{
 "cells": [
  {
   "cell_type": "markdown",
   "metadata": {},
   "source": [
    "# Udacity Machine Learning Nano Degree \n",
    "\n",
    "### Starbucks Capstone Challenge - Training the model"
   ]
  },
  {
   "cell_type": "code",
   "execution_count": 1,
   "metadata": {},
   "outputs": [],
   "source": [
    "import pandas as pd\n",
    "import boto3\n",
    "import sagemaker\n",
    "from sagemaker import get_execution_role\n",
    "from sagemaker.amazon.amazon_estimator import get_image_uri\n",
    "from sagemaker.predictor import csv_serializer\n",
    "from sagemaker import LinearLearner\n",
    "from sagemaker.tuner import IntegerParameter, ContinuousParameter, HyperparameterTuner, CategoricalParameter\n",
    "from sagemaker.sklearn.processing import SKLearnProcessor\n",
    "from sagemaker.processing import ProcessingInput, ProcessingOutput\n",
    "\n",
    "# session and role\n",
    "sagemaker_session = sagemaker.Session()\n",
    "role = sagemaker.get_execution_role()\n",
    "\n",
    "# create an S3 bucket\n",
    "bucket = sagemaker_session.default_bucket()"
   ]
  },
  {
   "cell_type": "markdown",
   "metadata": {},
   "source": [
    "# Models Implementation\n",
    "\n",
    "we are going to implement to model XGBoost (xgb) and Lineal Learner to see which one performs better"
   ]
  },
  {
   "cell_type": "code",
   "execution_count": 2,
   "metadata": {},
   "outputs": [],
   "source": [
    "best_model = {'bogo': {}, 'discount': {}, 'info': {}}"
   ]
  },
  {
   "cell_type": "markdown",
   "metadata": {},
   "source": [
    "# XGBoost "
   ]
  },
  {
   "cell_type": "code",
   "execution_count": 3,
   "metadata": {},
   "outputs": [
    {
     "name": "stderr",
     "output_type": "stream",
     "text": [
      "'get_image_uri' method will be deprecated in favor of 'ImageURIProvider' class in SageMaker Python SDK v2.\n",
      "There is a more up to date SageMaker XGBoost image. To use the newer image, please set 'repo_version'='1.0-1'. For example:\n",
      "\tget_image_uri(region, 'xgboost', '1.0-1').\n",
      "Parameter image_name will be renamed to image_uri in SageMaker Python SDK v2.\n",
      "'s3_input' class will be renamed to 'TrainingInput' in SageMaker Python SDK v2.\n",
      "'s3_input' class will be renamed to 'TrainingInput' in SageMaker Python SDK v2.\n"
     ]
    },
    {
     "name": "stdout",
     "output_type": "stream",
     "text": [
      "Waiting bogo...\n",
      ".............................................................................................................................................................................................................................................................!"
     ]
    },
    {
     "name": "stderr",
     "output_type": "stream",
     "text": [
      "Parameter image_name will be renamed to image_uri in SageMaker Python SDK v2.\n"
     ]
    },
    {
     "name": "stdout",
     "output_type": "stream",
     "text": [
      "\n"
     ]
    },
    {
     "name": "stderr",
     "output_type": "stream",
     "text": [
      "'s3_input' class will be renamed to 'TrainingInput' in SageMaker Python SDK v2.\n",
      "'s3_input' class will be renamed to 'TrainingInput' in SageMaker Python SDK v2.\n"
     ]
    },
    {
     "name": "stdout",
     "output_type": "stream",
     "text": [
      "Waiting discount...\n",
      "...............................................................................................................................................................................................................................................................................!"
     ]
    },
    {
     "name": "stderr",
     "output_type": "stream",
     "text": [
      "Parameter image_name will be renamed to image_uri in SageMaker Python SDK v2.\n",
      "'s3_input' class will be renamed to 'TrainingInput' in SageMaker Python SDK v2.\n",
      "'s3_input' class will be renamed to 'TrainingInput' in SageMaker Python SDK v2.\n"
     ]
    },
    {
     "name": "stdout",
     "output_type": "stream",
     "text": [
      "\n",
      "Waiting info...\n",
      "...................................................................................................................................................................................................................................................!\n"
     ]
    }
   ],
   "source": [
    "container = get_image_uri(sagemaker_session.boto_region_name, 'xgboost', '0.90-1')\n",
    "\n",
    "for prefix in ['bogo', 'discount', 'info']:\n",
    "    \n",
    "    xgb = sagemaker.estimator.Estimator(container,\n",
    "                                        role,\n",
    "                                        train_instance_count=1,\n",
    "                                        train_instance_type='ml.c4.xlarge',\n",
    "                                        output_path=f's3://{bucket}/starbucks_challenge/{prefix}/model',\n",
    "                                        sagemaker_session=sagemaker_session,\n",
    "                                        base_job_name=prefix + '-')\n",
    "    xgb.set_hyperparameters(max_depth=4,\n",
    "                            eta=0.1,\n",
    "                            gamma=4,\n",
    "                            min_child_weight=6,\n",
    "                            colsample_bytree=0.5,\n",
    "                            subsample=0.6,\n",
    "                            early_stopping_rounds=10,\n",
    "                            num_round=200,\n",
    "                            seed=1123)\n",
    "\n",
    "    \n",
    "    xgb_hyperparameter_tuner = HyperparameterTuner(estimator=xgb,\n",
    "                                                   objective_metric_name='validation:f1',\n",
    "                                                   objective_type='Maximize',\n",
    "                                                   max_jobs=20,\n",
    "                                                   max_parallel_jobs=4,\n",
    "                                                   hyperparameter_ranges = {\n",
    "                                                        'max_depth': IntegerParameter(2, 6),\n",
    "                                                        'eta'      : ContinuousParameter(0.01, 0.5),\n",
    "                                                        'gamma': ContinuousParameter(0, 10),\n",
    "                                                        'min_child_weight': IntegerParameter(2, 8),\n",
    "                                                        'colsample_bytree': ContinuousParameter(0.2, 1.0),\n",
    "                                                        'subsample': ContinuousParameter(0.3, 1.0),\n",
    "                                                   },\n",
    "                                                   base_tuning_job_name=prefix + '-xgb-tuning')\n",
    "\n",
    "    \n",
    "    s3_input_train = sagemaker.s3_input(s3_data=f's3://{bucket}/starbucks_challenge/{prefix}/{prefix}_train.csv', \n",
    "                                        content_type='csv')\n",
    "    s3_input_validation = sagemaker.s3_input(s3_data=f's3://{bucket}/starbucks_challenge/{prefix}/{prefix}_val.csv', \n",
    "                                             content_type='csv')\n",
    "\n",
    "   \n",
    "    xgb_hyperparameter_tuner.fit({'train': s3_input_train, 'validation': s3_input_validation})\n",
    "    \n",
    "    print(f'Waiting {prefix}...')\n",
    "    xgb_hyperparameter_tuner.wait()\n",
    "\n",
    "    # Save results and best model\n",
    "    best_model[prefix]['xgb'] = {'name': xgb_hyperparameter_tuner.best_training_job(),\n",
    "                                 'value': xgb_hyperparameter_tuner.analytics().dataframe()['FinalObjectiveValue'].max()}"
   ]
  },
  {
   "cell_type": "markdown",
   "metadata": {},
   "source": [
    "Lets re-train with the best model"
   ]
  },
  {
   "cell_type": "code",
   "execution_count": 4,
   "metadata": {},
   "outputs": [
    {
     "name": "stderr",
     "output_type": "stream",
     "text": [
      "Parameter image_name will be renamed to image_uri in SageMaker Python SDK v2.\n"
     ]
    },
    {
     "name": "stdout",
     "output_type": "stream",
     "text": [
      "bogo\n",
      "2020-08-06 03:04:59 Starting - Preparing the instances for training\n",
      "2020-08-06 03:04:59 Downloading - Downloading input data\n",
      "2020-08-06 03:04:59 Training - Training image download completed. Training in progress.\n",
      "2020-08-06 03:04:59 Uploading - Uploading generated training model\n",
      "2020-08-06 03:04:59 Completed - Training job completed"
     ]
    },
    {
     "name": "stderr",
     "output_type": "stream",
     "text": [
      "'s3_input' class will be renamed to 'TrainingInput' in SageMaker Python SDK v2.\n",
      "'s3_input' class will be renamed to 'TrainingInput' in SageMaker Python SDK v2.\n"
     ]
    },
    {
     "name": "stdout",
     "output_type": "stream",
     "text": [
      "\u001b[34mINFO:sagemaker-containers:Imported framework sagemaker_xgboost_container.training\u001b[0m\n",
      "\u001b[34mINFO:sagemaker-containers:Failed to parse hyperparameter _tuning_objective_metric value validation:f1 to Json.\u001b[0m\n",
      "\u001b[34mReturning the value itself\u001b[0m\n",
      "\u001b[34mINFO:sagemaker-containers:No GPUs detected (normal if no gpus installed)\u001b[0m\n",
      "\u001b[34mINFO:sagemaker_xgboost_container.training:Running XGBoost Sagemaker in algorithm mode\u001b[0m\n",
      "\u001b[34mINFO:root:Determined delimiter of CSV input is ','\u001b[0m\n",
      "\u001b[34mINFO:root:Determined delimiter of CSV input is ','\u001b[0m\n",
      "\u001b[34mINFO:root:Determined delimiter of CSV input is ','\u001b[0m\n",
      "\u001b[34m[03:04:49] 14980x15 matrix with 224700 entries loaded from /opt/ml/input/data/train?format=csv&label_column=0&delimiter=,\u001b[0m\n",
      "\u001b[34mINFO:root:Determined delimiter of CSV input is ','\u001b[0m\n",
      "\u001b[34m[03:04:49] 4280x15 matrix with 64200 entries loaded from /opt/ml/input/data/validation?format=csv&label_column=0&delimiter=,\u001b[0m\n",
      "\u001b[34mINFO:root:Single node training.\u001b[0m\n",
      "\u001b[34mINFO:root:Setting up HPO optimized metric to be : f1\u001b[0m\n",
      "\u001b[34mINFO:root:Train matrix has 14980 rows\u001b[0m\n",
      "\u001b[34mINFO:root:Validation matrix has 4280 rows\u001b[0m\n",
      "\u001b[34m[0]#011train-rmse:0.470969#011validation-rmse:0.471226#011train-f1:0.683043#011validation-f1:0.677547\u001b[0m\n",
      "\u001b[34m[1]#011train-rmse:0.452197#011validation-rmse:0.451715#011train-f1:0.714157#011validation-f1:0.72471\u001b[0m\n",
      "\u001b[34m[2]#011train-rmse:0.443123#011validation-rmse:0.442165#011train-f1:0.717263#011validation-f1:0.728291\u001b[0m\n",
      "\u001b[34m[3]#011train-rmse:0.438095#011validation-rmse:0.436675#011train-f1:0.725326#011validation-f1:0.736198\u001b[0m\n",
      "\u001b[34m[4]#011train-rmse:0.434028#011validation-rmse:0.433226#011train-f1:0.726804#011validation-f1:0.730815\u001b[0m\n",
      "\u001b[34m[5]#011train-rmse:0.432339#011validation-rmse:0.431838#011train-f1:0.72724#011validation-f1:0.731657\u001b[0m\n",
      "\u001b[34m[6]#011train-rmse:0.430157#011validation-rmse:0.430112#011train-f1:0.731669#011validation-f1:0.736709\u001b[0m\n",
      "\u001b[34m[7]#011train-rmse:0.427164#011validation-rmse:0.426659#011train-f1:0.732138#011validation-f1:0.739457\u001b[0m\n",
      "\u001b[34m[8]#011train-rmse:0.426082#011validation-rmse:0.426081#011train-f1:0.734861#011validation-f1:0.739954\u001b[0m\n",
      "\u001b[34m[9]#011train-rmse:0.424907#011validation-rmse:0.425226#011train-f1:0.734072#011validation-f1:0.743235\u001b[0m\n",
      "\u001b[34m[10]#011train-rmse:0.42437#011validation-rmse:0.425074#011train-f1:0.734218#011validation-f1:0.741162\u001b[0m\n",
      "Training seconds: 60\n",
      "Billable seconds: 60\n",
      "2020-08-06 03:54:34 Starting - Starting the training job...\n",
      "2020-08-06 03:54:37 Starting - Launching requested ML instances......\n",
      "2020-08-06 03:55:52 Starting - Preparing the instances for training......\n",
      "2020-08-06 03:56:47 Downloading - Downloading input data...\n",
      "2020-08-06 03:57:31 Training - Training image download completed. Training in progress..\u001b[34mINFO:sagemaker-containers:Imported framework sagemaker_xgboost_container.training\u001b[0m\n",
      "\u001b[34mINFO:sagemaker-containers:Failed to parse hyperparameter _tuning_objective_metric value validation:f1 to Json.\u001b[0m\n",
      "\u001b[34mReturning the value itself\u001b[0m\n",
      "\u001b[34mINFO:sagemaker-containers:No GPUs detected (normal if no gpus installed)\u001b[0m\n",
      "\u001b[34mINFO:sagemaker_xgboost_container.training:Running XGBoost Sagemaker in algorithm mode\u001b[0m\n",
      "\u001b[34mINFO:root:Determined delimiter of CSV input is ','\u001b[0m\n",
      "\u001b[34mINFO:root:Determined delimiter of CSV input is ','\u001b[0m\n",
      "\u001b[34mINFO:root:Determined delimiter of CSV input is ','\u001b[0m\n",
      "\u001b[34m[03:57:34] 14980x15 matrix with 224700 entries loaded from /opt/ml/input/data/train?format=csv&label_column=0&delimiter=,\u001b[0m\n",
      "\u001b[34mINFO:root:Determined delimiter of CSV input is ','\u001b[0m\n",
      "\u001b[34m[03:57:34] 4280x15 matrix with 64200 entries loaded from /opt/ml/input/data/validation?format=csv&label_column=0&delimiter=,\u001b[0m\n",
      "\u001b[34mINFO:root:Single node training.\u001b[0m\n",
      "\u001b[34mINFO:root:Setting up HPO optimized metric to be : f1\u001b[0m\n",
      "\u001b[34mINFO:root:Train matrix has 14980 rows\u001b[0m\n",
      "\u001b[34mINFO:root:Validation matrix has 4280 rows\u001b[0m\n",
      "\u001b[34m[0]#011train-rmse:0.470969#011validation-rmse:0.471226#011train-f1:0.683043#011validation-f1:0.677547\u001b[0m\n",
      "\u001b[34m[1]#011train-rmse:0.452197#011validation-rmse:0.451715#011train-f1:0.714157#011validation-f1:0.72471\u001b[0m\n",
      "\u001b[34m[2]#011train-rmse:0.443123#011validation-rmse:0.442165#011train-f1:0.717263#011validation-f1:0.728291\u001b[0m\n",
      "\u001b[34m[3]#011train-rmse:0.438095#011validation-rmse:0.436675#011train-f1:0.725326#011validation-f1:0.736198\u001b[0m\n",
      "\u001b[34m[4]#011train-rmse:0.434028#011validation-rmse:0.433226#011train-f1:0.726804#011validation-f1:0.730815\u001b[0m\n",
      "\u001b[34m[5]#011train-rmse:0.432339#011validation-rmse:0.431838#011train-f1:0.72724#011validation-f1:0.731657\u001b[0m\n",
      "\u001b[34m[6]#011train-rmse:0.430157#011validation-rmse:0.430112#011train-f1:0.731669#011validation-f1:0.736709\u001b[0m\n",
      "\u001b[34m[7]#011train-rmse:0.427164#011validation-rmse:0.426659#011train-f1:0.732138#011validation-f1:0.739457\u001b[0m\n",
      "\u001b[34m[8]#011train-rmse:0.426082#011validation-rmse:0.426081#011train-f1:0.734861#011validation-f1:0.739954\u001b[0m\n",
      "\u001b[34m[9]#011train-rmse:0.424907#011validation-rmse:0.425226#011train-f1:0.734072#011validation-f1:0.743235\u001b[0m\n",
      "\u001b[34m[10]#011train-rmse:0.42437#011validation-rmse:0.425074#011train-f1:0.734218#011validation-f1:0.741162\u001b[0m\n",
      "\n",
      "2020-08-06 03:57:44 Uploading - Uploading generated training model\n",
      "2020-08-06 03:57:44 Completed - Training job completed\n"
     ]
    },
    {
     "name": "stderr",
     "output_type": "stream",
     "text": [
      "Parameter image_name will be renamed to image_uri in SageMaker Python SDK v2.\n"
     ]
    },
    {
     "name": "stdout",
     "output_type": "stream",
     "text": [
      "Training seconds: 57\n",
      "Billable seconds: 57\n",
      "discount\n",
      "2020-08-06 03:29:43 Starting - Preparing the instances for training\n",
      "2020-08-06 03:29:43 Downloading - Downloading input data\n",
      "2020-08-06 03:29:43 Training - Training image download completed. Training in progress.\n",
      "2020-08-06 03:29:43 Uploading - Uploading generated training model\n",
      "2020-08-06 03:29:43 Completed - Training job completed"
     ]
    },
    {
     "name": "stderr",
     "output_type": "stream",
     "text": [
      "'s3_input' class will be renamed to 'TrainingInput' in SageMaker Python SDK v2.\n",
      "'s3_input' class will be renamed to 'TrainingInput' in SageMaker Python SDK v2.\n"
     ]
    },
    {
     "name": "stdout",
     "output_type": "stream",
     "text": [
      "\u001b[34mINFO:sagemaker-containers:Imported framework sagemaker_xgboost_container.training\u001b[0m\n",
      "\u001b[34mINFO:sagemaker-containers:Failed to parse hyperparameter _tuning_objective_metric value validation:f1 to Json.\u001b[0m\n",
      "\u001b[34mReturning the value itself\u001b[0m\n",
      "\u001b[34mINFO:sagemaker-containers:No GPUs detected (normal if no gpus installed)\u001b[0m\n",
      "\u001b[34mINFO:sagemaker_xgboost_container.training:Running XGBoost Sagemaker in algorithm mode\u001b[0m\n",
      "\u001b[34mINFO:root:Determined delimiter of CSV input is ','\u001b[0m\n",
      "\u001b[34mINFO:root:Determined delimiter of CSV input is ','\u001b[0m\n",
      "\u001b[34mINFO:root:Determined delimiter of CSV input is ','\u001b[0m\n",
      "\u001b[34m[03:29:33] 8692x15 matrix with 130380 entries loaded from /opt/ml/input/data/train?format=csv&label_column=0&delimiter=,\u001b[0m\n",
      "\u001b[34mINFO:root:Determined delimiter of CSV input is ','\u001b[0m\n",
      "\u001b[34m[03:29:33] 2484x15 matrix with 37260 entries loaded from /opt/ml/input/data/validation?format=csv&label_column=0&delimiter=,\u001b[0m\n",
      "\u001b[34mINFO:root:Single node training.\u001b[0m\n",
      "\u001b[34mINFO:root:Setting up HPO optimized metric to be : f1\u001b[0m\n",
      "\u001b[34mINFO:root:Train matrix has 8692 rows\u001b[0m\n",
      "\u001b[34mINFO:root:Validation matrix has 2484 rows\u001b[0m\n",
      "\u001b[34m[0]#011train-rmse:0.48868#011validation-rmse:0.489062#011train-f1:0.6439#011validation-f1:0.633364\u001b[0m\n",
      "\u001b[34m[1]#011train-rmse:0.482846#011validation-rmse:0.485895#011train-f1:0.667377#011validation-f1:0.642797\u001b[0m\n",
      "\u001b[34m[2]#011train-rmse:0.474904#011validation-rmse:0.479289#011train-f1:0.67452#011validation-f1:0.644512\u001b[0m\n",
      "\u001b[34m[3]#011train-rmse:0.459469#011validation-rmse:0.465704#011train-f1:0.725695#011validation-f1:0.697119\u001b[0m\n",
      "\u001b[34m[4]#011train-rmse:0.456224#011validation-rmse:0.464508#011train-f1:0.726368#011validation-f1:0.697022\u001b[0m\n",
      "\u001b[34m[5]#011train-rmse:0.449345#011validation-rmse:0.45936#011train-f1:0.733439#011validation-f1:0.706225\u001b[0m\n",
      "\u001b[34m[6]#011train-rmse:0.446027#011validation-rmse:0.45734#011train-f1:0.734622#011validation-f1:0.702701\u001b[0m\n",
      "\u001b[34m[7]#011train-rmse:0.436719#011validation-rmse:0.448528#011train-f1:0.745283#011validation-f1:0.71617\u001b[0m\n",
      "\u001b[34m[8]#011train-rmse:0.430701#011validation-rmse:0.443844#011train-f1:0.748383#011validation-f1:0.728593\u001b[0m\n",
      "\u001b[34m[9]#011train-rmse:0.426378#011validation-rmse:0.440692#011train-f1:0.749185#011validation-f1:0.731422\u001b[0m\n",
      "\u001b[34m[10]#011train-rmse:0.422104#011validation-rmse:0.437747#011train-f1:0.752301#011validation-f1:0.731469\u001b[0m\n",
      "Training seconds: 54\n",
      "Billable seconds: 54\n",
      "2020-08-06 03:58:17 Starting - Starting the training job...\n",
      "2020-08-06 03:58:20 Starting - Launching requested ML instances......\n",
      "2020-08-06 03:59:36 Starting - Preparing the instances for training......\n",
      "2020-08-06 04:00:47 Downloading - Downloading input data...\n",
      "2020-08-06 04:00:58 Training - Downloading the training image..\n",
      "2020-08-06 04:01:39 Uploading - Uploading generated training model\n",
      "2020-08-06 04:01:39 Completed - Training job completed\n",
      "\u001b[34mINFO:sagemaker-containers:Imported framework sagemaker_xgboost_container.training\u001b[0m\n",
      "\u001b[34mINFO:sagemaker-containers:Failed to parse hyperparameter _tuning_objective_metric value validation:f1 to Json.\u001b[0m\n",
      "\u001b[34mReturning the value itself\u001b[0m\n",
      "\u001b[34mINFO:sagemaker-containers:No GPUs detected (normal if no gpus installed)\u001b[0m\n",
      "\u001b[34mINFO:sagemaker_xgboost_container.training:Running XGBoost Sagemaker in algorithm mode\u001b[0m\n",
      "\u001b[34mINFO:root:Determined delimiter of CSV input is ','\u001b[0m\n",
      "\u001b[34mINFO:root:Determined delimiter of CSV input is ','\u001b[0m\n",
      "\u001b[34mINFO:root:Determined delimiter of CSV input is ','\u001b[0m\n",
      "\u001b[34m[04:01:28] 8692x15 matrix with 130380 entries loaded from /opt/ml/input/data/train?format=csv&label_column=0&delimiter=,\u001b[0m\n",
      "\u001b[34mINFO:root:Determined delimiter of CSV input is ','\u001b[0m\n",
      "\u001b[34m[04:01:28] 2484x15 matrix with 37260 entries loaded from /opt/ml/input/data/validation?format=csv&label_column=0&delimiter=,\u001b[0m\n",
      "\u001b[34mINFO:root:Single node training.\u001b[0m\n",
      "\u001b[34mINFO:root:Setting up HPO optimized metric to be : f1\u001b[0m\n",
      "\u001b[34mINFO:root:Train matrix has 8692 rows\u001b[0m\n",
      "\u001b[34mINFO:root:Validation matrix has 2484 rows\u001b[0m\n",
      "\u001b[34m[0]#011train-rmse:0.48868#011validation-rmse:0.489062#011train-f1:0.6439#011validation-f1:0.633364\u001b[0m\n",
      "\u001b[34m[1]#011train-rmse:0.482847#011validation-rmse:0.485895#011train-f1:0.667377#011validation-f1:0.642797\u001b[0m\n",
      "\u001b[34m[2]#011train-rmse:0.474904#011validation-rmse:0.479289#011train-f1:0.67452#011validation-f1:0.644512\u001b[0m\n",
      "\u001b[34m[3]#011train-rmse:0.459469#011validation-rmse:0.465704#011train-f1:0.725695#011validation-f1:0.697119\u001b[0m\n",
      "\u001b[34m[4]#011train-rmse:0.456224#011validation-rmse:0.464508#011train-f1:0.726368#011validation-f1:0.697022\u001b[0m\n",
      "\u001b[34m[5]#011train-rmse:0.449345#011validation-rmse:0.45936#011train-f1:0.733439#011validation-f1:0.706225\u001b[0m\n",
      "\u001b[34m[6]#011train-rmse:0.446027#011validation-rmse:0.45734#011train-f1:0.734622#011validation-f1:0.702701\u001b[0m\n",
      "\u001b[34m[7]#011train-rmse:0.436719#011validation-rmse:0.448528#011train-f1:0.745283#011validation-f1:0.71617\u001b[0m\n",
      "\u001b[34m[8]#011train-rmse:0.430701#011validation-rmse:0.443844#011train-f1:0.748383#011validation-f1:0.728593\u001b[0m\n",
      "\u001b[34m[9]#011train-rmse:0.426378#011validation-rmse:0.440692#011train-f1:0.749185#011validation-f1:0.731422\u001b[0m\n",
      "\u001b[34m[10]#011train-rmse:0.422104#011validation-rmse:0.437747#011train-f1:0.752301#011validation-f1:0.731469\u001b[0m\n",
      "Training seconds: 52\n",
      "Billable seconds: 52\n",
      "info\n"
     ]
    },
    {
     "name": "stderr",
     "output_type": "stream",
     "text": [
      "Parameter image_name will be renamed to image_uri in SageMaker Python SDK v2.\n",
      "'s3_input' class will be renamed to 'TrainingInput' in SageMaker Python SDK v2.\n",
      "'s3_input' class will be renamed to 'TrainingInput' in SageMaker Python SDK v2.\n"
     ]
    },
    {
     "name": "stdout",
     "output_type": "stream",
     "text": [
      "2020-08-06 03:54:07 Starting - Preparing the instances for training\n",
      "2020-08-06 03:54:07 Downloading - Downloading input data\n",
      "2020-08-06 03:54:07 Training - Training image download completed. Training in progress.\n",
      "2020-08-06 03:54:07 Uploading - Uploading generated training model\n",
      "2020-08-06 03:54:07 Completed - Training job completed\u001b[34mINFO:sagemaker-containers:Imported framework sagemaker_xgboost_container.training\u001b[0m\n",
      "\u001b[34mINFO:sagemaker-containers:Failed to parse hyperparameter _tuning_objective_metric value validation:f1 to Json.\u001b[0m\n",
      "\u001b[34mReturning the value itself\u001b[0m\n",
      "\u001b[34mINFO:sagemaker-containers:No GPUs detected (normal if no gpus installed)\u001b[0m\n",
      "\u001b[34mINFO:sagemaker_xgboost_container.training:Running XGBoost Sagemaker in algorithm mode\u001b[0m\n",
      "\u001b[34mINFO:root:Determined delimiter of CSV input is ','\u001b[0m\n",
      "\u001b[34mINFO:root:Determined delimiter of CSV input is ','\u001b[0m\n",
      "\u001b[34mINFO:root:Determined delimiter of CSV input is ','\u001b[0m\n",
      "\u001b[34m[03:53:56] 5087x15 matrix with 76305 entries loaded from /opt/ml/input/data/train?format=csv&label_column=0&delimiter=,\u001b[0m\n",
      "\u001b[34mINFO:root:Determined delimiter of CSV input is ','\u001b[0m\n",
      "\u001b[34m[03:53:56] 1454x15 matrix with 21810 entries loaded from /opt/ml/input/data/validation?format=csv&label_column=0&delimiter=,\u001b[0m\n",
      "\u001b[34mINFO:root:Single node training.\u001b[0m\n",
      "\u001b[34mINFO:root:Setting up HPO optimized metric to be : f1\u001b[0m\n",
      "\u001b[34mINFO:root:Train matrix has 5087 rows\u001b[0m\n",
      "\u001b[34mINFO:root:Validation matrix has 1454 rows\u001b[0m\n",
      "\u001b[34m[0]#011train-rmse:0.489038#011validation-rmse:0.489972#011train-f1:0.595988#011validation-f1:0.603173\u001b[0m\n",
      "\u001b[34m[1]#011train-rmse:0.484703#011validation-rmse:0.485576#011train-f1:0.612048#011validation-f1:0.606274\u001b[0m\n",
      "\u001b[34m[2]#011train-rmse:0.481676#011validation-rmse:0.483085#011train-f1:0.610798#011validation-f1:0.610743\u001b[0m\n",
      "\u001b[34m[3]#011train-rmse:0.480203#011validation-rmse:0.48252#011train-f1:0.613608#011validation-f1:0.616387\u001b[0m\n",
      "\u001b[34m[4]#011train-rmse:0.474011#011validation-rmse:0.475822#011train-f1:0.638552#011validation-f1:0.649094\u001b[0m\n",
      "\u001b[34m[5]#011train-rmse:0.471909#011validation-rmse:0.474503#011train-f1:0.647443#011validation-f1:0.652481\u001b[0m\n",
      "\u001b[34m[6]#011train-rmse:0.467213#011validation-rmse:0.469454#011train-f1:0.654719#011validation-f1:0.661367\u001b[0m\n",
      "\u001b[34m[7]#011train-rmse:0.464639#011validation-rmse:0.46755#011train-f1:0.658334#011validation-f1:0.65669\u001b[0m\n",
      "\u001b[34m[8]#011train-rmse:0.464022#011validation-rmse:0.466749#011train-f1:0.662454#011validation-f1:0.662015\u001b[0m\n",
      "\u001b[34m[9]#011train-rmse:0.463404#011validation-rmse:0.466063#011train-f1:0.661087#011validation-f1:0.660666\u001b[0m\n",
      "\u001b[34m[10]#011train-rmse:0.463404#011validation-rmse:0.466069#011train-f1:0.66128#011validation-f1:0.660666\u001b[0m\n",
      "Training seconds: 61\n",
      "Billable seconds: 61\n",
      "2020-08-06 04:01:59 Starting - Starting the training job...\n",
      "2020-08-06 04:02:01 Starting - Launching requested ML instances......\n",
      "2020-08-06 04:03:18 Starting - Preparing the instances for training......\n",
      "2020-08-06 04:04:27 Downloading - Downloading input data...\n",
      "2020-08-06 04:04:56 Training - Downloading the training image...\n",
      "2020-08-06 04:05:28 Uploading - Uploading generated training model\n",
      "2020-08-06 04:05:28 Completed - Training job completed\n",
      "\u001b[34mINFO:sagemaker-containers:Imported framework sagemaker_xgboost_container.training\u001b[0m\n",
      "\u001b[34mINFO:sagemaker-containers:Failed to parse hyperparameter _tuning_objective_metric value validation:f1 to Json.\u001b[0m\n",
      "\u001b[34mReturning the value itself\u001b[0m\n",
      "\u001b[34mINFO:sagemaker-containers:No GPUs detected (normal if no gpus installed)\u001b[0m\n",
      "\u001b[34mINFO:sagemaker_xgboost_container.training:Running XGBoost Sagemaker in algorithm mode\u001b[0m\n",
      "\u001b[34mINFO:root:Determined delimiter of CSV input is ','\u001b[0m\n",
      "\u001b[34mINFO:root:Determined delimiter of CSV input is ','\u001b[0m\n",
      "\u001b[34mINFO:root:Determined delimiter of CSV input is ','\u001b[0m\n",
      "\u001b[34m[04:05:18] 5087x15 matrix with 76305 entries loaded from /opt/ml/input/data/train?format=csv&label_column=0&delimiter=,\u001b[0m\n",
      "\u001b[34mINFO:root:Determined delimiter of CSV input is ','\u001b[0m\n",
      "\u001b[34m[04:05:18] 1454x15 matrix with 21810 entries loaded from /opt/ml/input/data/validation?format=csv&label_column=0&delimiter=,\u001b[0m\n",
      "\u001b[34mINFO:root:Single node training.\u001b[0m\n",
      "\u001b[34mINFO:root:Setting up HPO optimized metric to be : f1\u001b[0m\n",
      "\u001b[34mINFO:root:Train matrix has 5087 rows\u001b[0m\n",
      "\u001b[34mINFO:root:Validation matrix has 1454 rows\u001b[0m\n",
      "\u001b[34m[0]#011train-rmse:0.489038#011validation-rmse:0.489972#011train-f1:0.595988#011validation-f1:0.603173\u001b[0m\n",
      "\u001b[34m[1]#011train-rmse:0.484703#011validation-rmse:0.485576#011train-f1:0.612048#011validation-f1:0.606274\u001b[0m\n",
      "\u001b[34m[2]#011train-rmse:0.481676#011validation-rmse:0.483085#011train-f1:0.610798#011validation-f1:0.610743\u001b[0m\n",
      "\u001b[34m[3]#011train-rmse:0.480203#011validation-rmse:0.48252#011train-f1:0.613608#011validation-f1:0.616387\u001b[0m\n",
      "\u001b[34m[4]#011train-rmse:0.474011#011validation-rmse:0.475822#011train-f1:0.638552#011validation-f1:0.649094\u001b[0m\n",
      "\u001b[34m[5]#011train-rmse:0.471909#011validation-rmse:0.474503#011train-f1:0.647443#011validation-f1:0.652481\u001b[0m\n",
      "\u001b[34m[6]#011train-rmse:0.467213#011validation-rmse:0.469454#011train-f1:0.654719#011validation-f1:0.661367\u001b[0m\n",
      "\u001b[34m[7]#011train-rmse:0.464639#011validation-rmse:0.46755#011train-f1:0.658334#011validation-f1:0.65669\u001b[0m\n",
      "\u001b[34m[8]#011train-rmse:0.464022#011validation-rmse:0.466749#011train-f1:0.662454#011validation-f1:0.662015\u001b[0m\n",
      "\u001b[34m[9]#011train-rmse:0.463404#011validation-rmse:0.466063#011train-f1:0.661087#011validation-f1:0.660666\u001b[0m\n",
      "\u001b[34m[10]#011train-rmse:0.463404#011validation-rmse:0.466069#011train-f1:0.66128#011validation-f1:0.660666\u001b[0m\n",
      "Training seconds: 61\n",
      "Billable seconds: 61\n"
     ]
    }
   ],
   "source": [
    "for prefix in ['bogo', 'discount', 'info']:\n",
    "    print(prefix)\n",
    "    \n",
    "    re_train_model = sagemaker.estimator.Estimator.attach(best_model[prefix]['xgb']['name'])\n",
    "    \n",
    "    s3_input_train = sagemaker.s3_input(s3_data=f's3://{bucket}/starbucks_challenge/{prefix}/{prefix}_train.csv', \n",
    "                                        content_type='csv')\n",
    "    s3_input_validation = sagemaker.s3_input(s3_data=f's3://{bucket}/starbucks_challenge/{prefix}/{prefix}_val.csv', \n",
    "                                             content_type='csv')\n",
    "\n",
    "    re_train_model.fit({'train': s3_input_train, 'validation': s3_input_validation})\n",
    "\n",
    "    best_model[prefix]['xgb']['model'] = re_train_model"
   ]
  },
  {
   "cell_type": "markdown",
   "metadata": {},
   "source": [
    "# Lineal Learner model\n",
    "\n",
    "Now lest train a lineal learner model."
   ]
  },
  {
   "cell_type": "code",
   "execution_count": 5,
   "metadata": {
    "scrolled": true
   },
   "outputs": [
    {
     "name": "stderr",
     "output_type": "stream",
     "text": [
      "'get_image_uri' method will be deprecated in favor of 'ImageURIProvider' class in SageMaker Python SDK v2.\n",
      "'s3_input' class will be renamed to 'TrainingInput' in SageMaker Python SDK v2.\n",
      "'s3_input' class will be renamed to 'TrainingInput' in SageMaker Python SDK v2.\n",
      "'get_image_uri' method will be deprecated in favor of 'ImageURIProvider' class in SageMaker Python SDK v2.\n"
     ]
    },
    {
     "name": "stdout",
     "output_type": "stream",
     "text": [
      "\n",
      "2020-08-06 04:15:24 Starting - Starting the training job\n",
      "2020-08-06 04:15:28 Starting - Launching requested ML instances....................\n",
      "2020-08-06 04:17:12 Starting - Preparing the instances for training................\n",
      "2020-08-06 04:18:35 Downloading - Downloading input data.\n",
      "2020-08-06 04:18:48 Training - Downloading the training image...\n",
      "2020-08-06 04:19:07 Training - Training image download completed. Training in progress..........................\n",
      "2020-08-06 04:21:19 Uploading - Uploading generated training model.\n",
      "2020-08-06 04:21:26 Completed - Training job completed"
     ]
    },
    {
     "name": "stderr",
     "output_type": "stream",
     "text": [
      "Warning: No metrics called test:dcg found\n",
      "Warning: No metrics called test:binary_f_beta found\n",
      "Warning: No metrics called validation:macro_precision found\n"
     ]
    },
    {
     "name": "stdout",
     "output_type": "stream",
     "text": [
      "\n"
     ]
    },
    {
     "name": "stderr",
     "output_type": "stream",
     "text": [
      "Warning: No metrics called validation:dcg found\n",
      "Warning: No metrics called test:mse found\n",
      "Warning: No metrics called test:macro_recall found\n",
      "Warning: No metrics called test:absolute_loss found\n",
      "Warning: No metrics called train:recall found\n",
      "Warning: No metrics called train:mse found\n",
      "Warning: No metrics called train:precision found\n",
      "Warning: No metrics called train:objective_loss:final found\n",
      "Warning: No metrics called test:multiclass_accuracy found\n",
      "Warning: No metrics called validation:multiclass_accuracy found\n",
      "Warning: No metrics called train:binary_f_beta found\n",
      "Warning: No metrics called test:recall found\n",
      "Warning: No metrics called test:macro_precision found\n",
      "Warning: No metrics called test:macro_f_beta found\n",
      "Warning: No metrics called test:objective_loss found\n",
      "Warning: No metrics called test:precision found\n",
      "Warning: No metrics called validation:multiclass_top_k_accuracy found\n",
      "Warning: No metrics called train:binary_classification_accuracy found\n",
      "Warning: No metrics called validation:mse found\n",
      "Warning: No metrics called test:multiclass_top_k_accuracy found\n",
      "Warning: No metrics called train:absolute_loss found\n",
      "Warning: No metrics called validation:macro_recall found\n",
      "Warning: No metrics called test:binary_classification_accuracy found\n",
      "Warning: No metrics called validation:absolute_loss found\n",
      "Warning: No metrics called validation:macro_f_beta found\n",
      "'get_image_uri' method will be deprecated in favor of 'ImageURIProvider' class in SageMaker Python SDK v2.\n",
      "'s3_input' class will be renamed to 'TrainingInput' in SageMaker Python SDK v2.\n",
      "'s3_input' class will be renamed to 'TrainingInput' in SageMaker Python SDK v2.\n",
      "'get_image_uri' method will be deprecated in favor of 'ImageURIProvider' class in SageMaker Python SDK v2.\n"
     ]
    },
    {
     "name": "stdout",
     "output_type": "stream",
     "text": [
      "\n",
      "2020-08-06 04:21:33 Starting - Starting the training job\n",
      "2020-08-06 04:21:36 Starting - Launching requested ML instances...................\n",
      "2020-08-06 04:23:17 Starting - Preparing the instances for training...............\n",
      "2020-08-06 04:24:36 Downloading - Downloading input data....\n",
      "2020-08-06 04:25:04 Training - Downloading the training image...\n",
      "2020-08-06 04:25:24 Training - Training image download completed. Training in progress...................\n",
      "2020-08-06 04:26:56 Uploading - Uploading generated training model\n",
      "2020-08-06 04:27:03 Completed - Training job completed"
     ]
    },
    {
     "name": "stderr",
     "output_type": "stream",
     "text": [
      "Warning: No metrics called test:dcg found\n",
      "Warning: No metrics called test:binary_f_beta found\n",
      "Warning: No metrics called validation:macro_precision found\n",
      "Warning: No metrics called validation:dcg found\n",
      "Warning: No metrics called test:mse found\n"
     ]
    },
    {
     "name": "stdout",
     "output_type": "stream",
     "text": [
      "\n"
     ]
    },
    {
     "name": "stderr",
     "output_type": "stream",
     "text": [
      "Warning: No metrics called test:macro_recall found\n",
      "Warning: No metrics called test:absolute_loss found\n",
      "Warning: No metrics called train:recall found\n",
      "Warning: No metrics called train:mse found\n",
      "Warning: No metrics called train:precision found\n",
      "Warning: No metrics called train:objective_loss:final found\n",
      "Warning: No metrics called test:multiclass_accuracy found\n",
      "Warning: No metrics called validation:multiclass_accuracy found\n",
      "Warning: No metrics called train:binary_f_beta found\n",
      "Warning: No metrics called test:recall found\n",
      "Warning: No metrics called test:macro_precision found\n",
      "Warning: No metrics called test:macro_f_beta found\n",
      "Warning: No metrics called test:objective_loss found\n",
      "Warning: No metrics called test:precision found\n",
      "Warning: No metrics called validation:multiclass_top_k_accuracy found\n",
      "Warning: No metrics called train:binary_classification_accuracy found\n",
      "Warning: No metrics called validation:mse found\n",
      "Warning: No metrics called test:multiclass_top_k_accuracy found\n",
      "Warning: No metrics called train:absolute_loss found\n",
      "Warning: No metrics called validation:macro_recall found\n",
      "Warning: No metrics called test:binary_classification_accuracy found\n",
      "Warning: No metrics called validation:absolute_loss found\n",
      "Warning: No metrics called validation:macro_f_beta found\n",
      "'get_image_uri' method will be deprecated in favor of 'ImageURIProvider' class in SageMaker Python SDK v2.\n",
      "'s3_input' class will be renamed to 'TrainingInput' in SageMaker Python SDK v2.\n",
      "'s3_input' class will be renamed to 'TrainingInput' in SageMaker Python SDK v2.\n",
      "'get_image_uri' method will be deprecated in favor of 'ImageURIProvider' class in SageMaker Python SDK v2.\n"
     ]
    },
    {
     "name": "stdout",
     "output_type": "stream",
     "text": [
      "\n",
      "2020-08-06 04:27:07 Starting - Starting the training job\n",
      "2020-08-06 04:27:10 Starting - Launching requested ML instances...................\n",
      "2020-08-06 04:28:53 Starting - Preparing the instances for training...............\n",
      "2020-08-06 04:30:12 Downloading - Downloading input data..\n",
      "2020-08-06 04:30:27 Training - Downloading the training image...\n",
      "2020-08-06 04:30:46 Training - Training image download completed. Training in progress..............\n",
      "2020-08-06 04:31:57 Uploading - Uploading generated training model.\n",
      "2020-08-06 04:32:04 Completed - Training job completed"
     ]
    },
    {
     "name": "stderr",
     "output_type": "stream",
     "text": [
      "Warning: No metrics called test:dcg found\n",
      "Warning: No metrics called test:binary_f_beta found\n",
      "Warning: No metrics called validation:macro_precision found\n",
      "Warning: No metrics called validation:dcg found\n",
      "Warning: No metrics called test:mse found\n"
     ]
    },
    {
     "name": "stdout",
     "output_type": "stream",
     "text": [
      "\n"
     ]
    },
    {
     "name": "stderr",
     "output_type": "stream",
     "text": [
      "Warning: No metrics called test:macro_recall found\n",
      "Warning: No metrics called test:absolute_loss found\n",
      "Warning: No metrics called train:recall found\n",
      "Warning: No metrics called train:mse found\n",
      "Warning: No metrics called train:precision found\n",
      "Warning: No metrics called train:objective_loss:final found\n",
      "Warning: No metrics called test:multiclass_accuracy found\n",
      "Warning: No metrics called validation:multiclass_accuracy found\n",
      "Warning: No metrics called train:binary_f_beta found\n",
      "Warning: No metrics called test:recall found\n",
      "Warning: No metrics called test:macro_precision found\n",
      "Warning: No metrics called test:macro_f_beta found\n",
      "Warning: No metrics called test:objective_loss found\n",
      "Warning: No metrics called test:precision found\n",
      "Warning: No metrics called validation:multiclass_top_k_accuracy found\n",
      "Warning: No metrics called train:binary_classification_accuracy found\n",
      "Warning: No metrics called validation:mse found\n",
      "Warning: No metrics called test:multiclass_top_k_accuracy found\n",
      "Warning: No metrics called train:absolute_loss found\n",
      "Warning: No metrics called validation:macro_recall found\n",
      "Warning: No metrics called test:binary_classification_accuracy found\n",
      "Warning: No metrics called validation:absolute_loss found\n",
      "Warning: No metrics called validation:macro_f_beta found\n"
     ]
    }
   ],
   "source": [
    "for prefix in ['bogo', 'discount', 'info']:\n",
    "    # Create instance of LinearLearner\n",
    "    linear_learner_model = LinearLearner(role,\n",
    "                       train_instance_count=1, \n",
    "                       train_instance_type='ml.c4.xlarge',\n",
    "                       predictor_type='binary_classifier',\n",
    "                       output_path=f's3://{bucket}/starbucks_challenge/{prefix}/model',\n",
    "                       sagemaker_session=sagemaker_session,\n",
    "                       binary_classifier_model_selection_criteria='f1',\n",
    "                       epochs=100,\n",
    "                       use_bias=True,\n",
    "                       optimizer='adam',\n",
    "                       loss='auto',\n",
    "                       wd=0,\n",
    "                       normalize_data=True,\n",
    "                       unbias_data=True,\n",
    "                       early_stopping_patience=5,\n",
    "                       learning_rate=0.01,\n",
    "                       balance_multiclass_weights=True)\n",
    "    \n",
    "    # Create record sets from local data as inputs to the LinearLearner\n",
    "    train = pd.read_csv(f'./data/{prefix}/{prefix}_train.csv', header=None)\n",
    "    train_data = linear_learner_model.record_set(train.drop(0, 1).values.astype('float32'), \n",
    "    labels=train[0].values.astype('float32'),\n",
    "                                         channel='train')\n",
    "    \n",
    "    valid = pd.read_csv(f'./data/{prefix}/{prefix}_train.csv', header=None)\n",
    "    validation_data = linear_learner_model.record_set(valid.drop(0, 1).values.astype('float32'), \n",
    "    labels=valid[0].values.astype('float32'), channel='validation')\n",
    "\n",
    "    linear_learner_model.fit([train_data, validation_data], logs=False)\n",
    "\n",
    "    training_job_analytics = linear_learner_model.training_job_analytics\n",
    "    result_analytics = training_job_analytics.dataframe()\n",
    "    best_model[prefix]['linear_learner_model'] = {'name': training_job_analytics.name,\n",
    "                                'value': result_analytics.loc[result_analytics['metric_name'] == \\\n",
    "                                                              'validation:binary_f_beta', 'value'].values[0],\n",
    "                                'model': linear_learner_model}"
   ]
  },
  {
   "cell_type": "code",
   "execution_count": 11,
   "metadata": {},
   "outputs": [
    {
     "name": "stdout",
     "output_type": "stream",
     "text": [
      "for bogo : \n",
      "\t\t value 0.7411620020866394 for xgb\n",
      "\t\t value 0.713481285194 for linear_lerner_model\n",
      "\n",
      "\n",
      "\n",
      "for discount : \n",
      "\t\t value 0.7314689755439758 for xgb\n",
      "\t\t value 0.708928902914 for linear_lerner_model\n",
      "\n",
      "\n",
      "\n",
      "for info : \n",
      "\t\t value 0.6606659889221191 for xgb\n",
      "\t\t value 0.691518566681 for linear_lerner_model\n",
      "\n",
      "\n",
      "\n"
     ]
    }
   ],
   "source": [
    "for prefix in ['bogo', 'discount', 'info']:\n",
    "    print(f'for {prefix} : ')\n",
    "    for model_name in ['xgb','linear_learner_model']:\n",
    "        print('\\t\\t value {} for {}'.format(best_model[prefix][model_name]['value'], model_name))\n",
    "    print('\\n\\n')"
   ]
  },
  {
   "cell_type": "markdown",
   "metadata": {},
   "source": [
    "For `bogo` and for `discount` xgb model performs better, and for `info` linear_learner performs better than xgb"
   ]
  },
  {
   "cell_type": "code",
   "execution_count": 14,
   "metadata": {},
   "outputs": [
    {
     "name": "stderr",
     "output_type": "stream",
     "text": [
      "Parameter image will be renamed to image_uri in SageMaker Python SDK v2.\n"
     ]
    },
    {
     "name": "stdout",
     "output_type": "stream",
     "text": [
      "bogo\n",
      "...................................................!"
     ]
    },
    {
     "name": "stderr",
     "output_type": "stream",
     "text": [
      "Parameter image will be renamed to image_uri in SageMaker Python SDK v2.\n"
     ]
    },
    {
     "name": "stdout",
     "output_type": "stream",
     "text": [
      "\n",
      "...................................................!"
     ]
    },
    {
     "name": "stderr",
     "output_type": "stream",
     "text": [
      "Parameter image will be renamed to image_uri in SageMaker Python SDK v2.\n"
     ]
    },
    {
     "name": "stdout",
     "output_type": "stream",
     "text": [
      "\n",
      "discount\n",
      "......................................................!\n"
     ]
    },
    {
     "name": "stderr",
     "output_type": "stream",
     "text": [
      "Parameter image will be renamed to image_uri in SageMaker Python SDK v2.\n"
     ]
    },
    {
     "name": "stdout",
     "output_type": "stream",
     "text": [
      ".................................................!"
     ]
    },
    {
     "name": "stderr",
     "output_type": "stream",
     "text": [
      "Parameter image will be renamed to image_uri in SageMaker Python SDK v2.\n"
     ]
    },
    {
     "name": "stdout",
     "output_type": "stream",
     "text": [
      "\n",
      "info\n",
      ".................................................!\n"
     ]
    },
    {
     "name": "stderr",
     "output_type": "stream",
     "text": [
      "Parameter image will be renamed to image_uri in SageMaker Python SDK v2.\n"
     ]
    },
    {
     "name": "stdout",
     "output_type": "stream",
     "text": [
      "....................................................!\n"
     ]
    }
   ],
   "source": [
    "for prefix in ['bogo','discount', 'info']:\n",
    "    print(prefix)\n",
    "\n",
    "    # Create lineal learner transformer\n",
    "    model_transform = best_model[prefix]['linear_learner_model']['model'].transformer(instance_count = 1, instance_type = 'ml.m4.xlarge')\n",
    "\n",
    "    model_transform.transform(f's3://{bucket}/starbucks_challenge/{prefix}/{prefix}_test.csv',\n",
    "                                       content_type='text/csv', split_type='Line', logs=False)\n",
    "    \n",
    "    model_transform.wait(logs=False)\n",
    "    \n",
    "    sagemaker_session.download_data(f'./data/{prefix}/{prefix}_linear_learner_model_preds', bucket,\n",
    "                          key_prefix='/'.join(model_transform.output_path.split('/')[3:]))\n",
    "    \n",
    "    # Create xgb transformer\n",
    "    model_transform = best_model[prefix]['xgb']['model'].transformer(instance_count = 1, instance_type = 'ml.m4.xlarge')\n",
    "\n",
    "    model_transform.transform(f's3://{bucket}/starbucks_challenge/{prefix}/{prefix}_test.csv',\n",
    "                                       content_type='text/csv', split_type='Line', wait=True, logs=False)\n",
    "\n",
    "    sagemaker_session.download_data(f'./data/{prefix}/{prefix}_xgb_preds', bucket,\n",
    "                          key_prefix='/'.join(model_transform.output_path.split('/')[3:]))"
   ]
  },
  {
   "cell_type": "code",
   "execution_count": 15,
   "metadata": {},
   "outputs": [],
   "source": [
    "import matplotlib.pyplot as plt\n",
    "from sklearn.metrics import accuracy_score, balanced_accuracy_score, \\\n",
    "    precision_score, recall_score, f1_score, average_precision_score, \\\n",
    "    roc_auc_score, roc_curve\n",
    "\n",
    "def analyze_visualize_model(y, y_prob, y_pred=None):\n",
    "\n",
    "    if y_pred is None:\n",
    "        y_pred = pd.Series([1 if x >= 0.5 else 0 for x in y_prob])\n",
    "        \n",
    "    result = pd.DataFrame(\n",
    "        {'value': [accuracy_score(y, y_pred),\n",
    "                   balanced_accuracy_score(y, y_pred),\n",
    "                   precision_score(y, y_pred), recall_score(y, y_pred),\n",
    "                   f1_score(y, y_pred),\n",
    "                   average_precision_score(y, y_prob),\n",
    "                   roc_auc_score(y, y_prob)]\n",
    "         },\n",
    "        index=['accuracy', 'balanced_accuracy', 'precision', 'recall', 'f1',\n",
    "               'average_precision', 'AUC']\n",
    "    )\n",
    "\n",
    "    fpr, tpr, _ = roc_curve(y, y_prob)\n",
    "    plt.plot(fpr, tpr)\n",
    "    plt.show()\n",
    "\n",
    "    display(pd.crosstab(y, y_pred, normalize='index'))\n",
    "\n",
    "    return result"
   ]
  },
  {
   "cell_type": "code",
   "execution_count": 19,
   "metadata": {
    "scrolled": false
   },
   "outputs": [
    {
     "name": "stdout",
     "output_type": "stream",
     "text": [
      "bogo\n",
      "XGBoost predictions\n"
     ]
    },
    {
     "data": {
      "image/png": "[encoded data removed]",
      "text/plain": [
       "<Figure size 432x288 with 1 Axes>"
      ]
     },
     "metadata": {
      "needs_background": "light"
     },
     "output_type": "display_data"
    },
    {
     "data": {
      "text/html": [
       "<div>\n",
       "<style scoped>\n",
       "    .dataframe tbody tr th:only-of-type {\n",
       "        vertical-align: middle;\n",
       "    }\n",
       "\n",
       "    .dataframe tbody tr th {\n",
       "        vertical-align: top;\n",
       "    }\n",
       "\n",
       "    .dataframe thead th {\n",
       "        text-align: right;\n",
       "    }\n",
       "</style>\n",
       "<table border=\"1\" class=\"dataframe\">\n",
       "  <thead>\n",
       "    <tr style=\"text-align: right;\">\n",
       "      <th>col_0</th>\n",
       "      <th>0</th>\n",
       "      <th>1</th>\n",
       "    </tr>\n",
       "    <tr>\n",
       "      <th>0</th>\n",
       "      <th></th>\n",
       "      <th></th>\n",
       "    </tr>\n",
       "  </thead>\n",
       "  <tbody>\n",
       "    <tr>\n",
       "      <th>0.0</th>\n",
       "      <td>0.602804</td>\n",
       "      <td>0.397196</td>\n",
       "    </tr>\n",
       "    <tr>\n",
       "      <th>1.0</th>\n",
       "      <td>0.259813</td>\n",
       "      <td>0.740187</td>\n",
       "    </tr>\n",
       "  </tbody>\n",
       "</table>\n",
       "</div>"
      ],
      "text/plain": [
       "col_0         0         1\n",
       "0                        \n",
       "0.0    0.602804  0.397196\n",
       "1.0    0.259813  0.740187"
      ]
     },
     "metadata": {},
     "output_type": "display_data"
    },
    {
     "data": {
      "text/html": [
       "<div>\n",
       "<style scoped>\n",
       "    .dataframe tbody tr th:only-of-type {\n",
       "        vertical-align: middle;\n",
       "    }\n",
       "\n",
       "    .dataframe tbody tr th {\n",
       "        vertical-align: top;\n",
       "    }\n",
       "\n",
       "    .dataframe thead th {\n",
       "        text-align: right;\n",
       "    }\n",
       "</style>\n",
       "<table border=\"1\" class=\"dataframe\">\n",
       "  <thead>\n",
       "    <tr style=\"text-align: right;\">\n",
       "      <th></th>\n",
       "      <th>value</th>\n",
       "    </tr>\n",
       "  </thead>\n",
       "  <tbody>\n",
       "    <tr>\n",
       "      <th>accuracy</th>\n",
       "      <td>0.671495</td>\n",
       "    </tr>\n",
       "    <tr>\n",
       "      <th>balanced_accuracy</th>\n",
       "      <td>0.671495</td>\n",
       "    </tr>\n",
       "    <tr>\n",
       "      <th>precision</th>\n",
       "      <td>0.650781</td>\n",
       "    </tr>\n",
       "    <tr>\n",
       "      <th>recall</th>\n",
       "      <td>0.740187</td>\n",
       "    </tr>\n",
       "    <tr>\n",
       "      <th>f1</th>\n",
       "      <td>0.692610</td>\n",
       "    </tr>\n",
       "    <tr>\n",
       "      <th>average_precision</th>\n",
       "      <td>0.649445</td>\n",
       "    </tr>\n",
       "    <tr>\n",
       "      <th>AUC</th>\n",
       "      <td>0.711577</td>\n",
       "    </tr>\n",
       "  </tbody>\n",
       "</table>\n",
       "</div>"
      ],
      "text/plain": [
       "                      value\n",
       "accuracy           0.671495\n",
       "balanced_accuracy  0.671495\n",
       "precision          0.650781\n",
       "recall             0.740187\n",
       "f1                 0.692610\n",
       "average_precision  0.649445\n",
       "AUC                0.711577"
      ]
     },
     "metadata": {},
     "output_type": "display_data"
    },
    {
     "name": "stdout",
     "output_type": "stream",
     "text": [
      "\n",
      "\n",
      "\n",
      "bogo\n",
      "LinearLearner predictions\n"
     ]
    },
    {
     "data": {
      "image/png": "[encoded data removed]",
      "text/plain": [
       "<Figure size 432x288 with 1 Axes>"
      ]
     },
     "metadata": {
      "needs_background": "light"
     },
     "output_type": "display_data"
    },
    {
     "data": {
      "text/html": [
       "<div>\n",
       "<style scoped>\n",
       "    .dataframe tbody tr th:only-of-type {\n",
       "        vertical-align: middle;\n",
       "    }\n",
       "\n",
       "    .dataframe tbody tr th {\n",
       "        vertical-align: top;\n",
       "    }\n",
       "\n",
       "    .dataframe thead th {\n",
       "        text-align: right;\n",
       "    }\n",
       "</style>\n",
       "<table border=\"1\" class=\"dataframe\">\n",
       "  <thead>\n",
       "    <tr style=\"text-align: right;\">\n",
       "      <th>col_0</th>\n",
       "      <th>0</th>\n",
       "      <th>1</th>\n",
       "    </tr>\n",
       "    <tr>\n",
       "      <th>0</th>\n",
       "      <th></th>\n",
       "      <th></th>\n",
       "    </tr>\n",
       "  </thead>\n",
       "  <tbody>\n",
       "    <tr>\n",
       "      <th>0.0</th>\n",
       "      <td>0.417757</td>\n",
       "      <td>0.582243</td>\n",
       "    </tr>\n",
       "    <tr>\n",
       "      <th>1.0</th>\n",
       "      <td>0.142056</td>\n",
       "      <td>0.857944</td>\n",
       "    </tr>\n",
       "  </tbody>\n",
       "</table>\n",
       "</div>"
      ],
      "text/plain": [
       "col_0         0         1\n",
       "0                        \n",
       "0.0    0.417757  0.582243\n",
       "1.0    0.142056  0.857944"
      ]
     },
     "metadata": {},
     "output_type": "display_data"
    },
    {
     "data": {
      "text/html": [
       "<div>\n",
       "<style scoped>\n",
       "    .dataframe tbody tr th:only-of-type {\n",
       "        vertical-align: middle;\n",
       "    }\n",
       "\n",
       "    .dataframe tbody tr th {\n",
       "        vertical-align: top;\n",
       "    }\n",
       "\n",
       "    .dataframe thead th {\n",
       "        text-align: right;\n",
       "    }\n",
       "</style>\n",
       "<table border=\"1\" class=\"dataframe\">\n",
       "  <thead>\n",
       "    <tr style=\"text-align: right;\">\n",
       "      <th></th>\n",
       "      <th>value</th>\n",
       "    </tr>\n",
       "  </thead>\n",
       "  <tbody>\n",
       "    <tr>\n",
       "      <th>accuracy</th>\n",
       "      <td>0.637850</td>\n",
       "    </tr>\n",
       "    <tr>\n",
       "      <th>balanced_accuracy</th>\n",
       "      <td>0.637850</td>\n",
       "    </tr>\n",
       "    <tr>\n",
       "      <th>precision</th>\n",
       "      <td>0.595717</td>\n",
       "    </tr>\n",
       "    <tr>\n",
       "      <th>recall</th>\n",
       "      <td>0.857944</td>\n",
       "    </tr>\n",
       "    <tr>\n",
       "      <th>f1</th>\n",
       "      <td>0.703179</td>\n",
       "    </tr>\n",
       "    <tr>\n",
       "      <th>average_precision</th>\n",
       "      <td>0.680886</td>\n",
       "    </tr>\n",
       "    <tr>\n",
       "      <th>AUC</th>\n",
       "      <td>0.712177</td>\n",
       "    </tr>\n",
       "  </tbody>\n",
       "</table>\n",
       "</div>"
      ],
      "text/plain": [
       "                      value\n",
       "accuracy           0.637850\n",
       "balanced_accuracy  0.637850\n",
       "precision          0.595717\n",
       "recall             0.857944\n",
       "f1                 0.703179\n",
       "average_precision  0.680886\n",
       "AUC                0.712177"
      ]
     },
     "metadata": {},
     "output_type": "display_data"
    },
    {
     "name": "stdout",
     "output_type": "stream",
     "text": [
      "\n",
      "\n",
      "\n",
      "\n",
      "discount\n",
      "XGBoost predictions\n"
     ]
    },
    {
     "data": {
      "image/png": "[encoded data removed]",
      "text/plain": [
       "<Figure size 432x288 with 1 Axes>"
      ]
     },
     "metadata": {
      "needs_background": "light"
     },
     "output_type": "display_data"
    },
    {
     "data": {
      "text/html": [
       "<div>\n",
       "<style scoped>\n",
       "    .dataframe tbody tr th:only-of-type {\n",
       "        vertical-align: middle;\n",
       "    }\n",
       "\n",
       "    .dataframe tbody tr th {\n",
       "        vertical-align: top;\n",
       "    }\n",
       "\n",
       "    .dataframe thead th {\n",
       "        text-align: right;\n",
       "    }\n",
       "</style>\n",
       "<table border=\"1\" class=\"dataframe\">\n",
       "  <thead>\n",
       "    <tr style=\"text-align: right;\">\n",
       "      <th>col_0</th>\n",
       "      <th>0</th>\n",
       "      <th>1</th>\n",
       "    </tr>\n",
       "    <tr>\n",
       "      <th>0</th>\n",
       "      <th></th>\n",
       "      <th></th>\n",
       "    </tr>\n",
       "  </thead>\n",
       "  <tbody>\n",
       "    <tr>\n",
       "      <th>0.0</th>\n",
       "      <td>0.708535</td>\n",
       "      <td>0.291465</td>\n",
       "    </tr>\n",
       "    <tr>\n",
       "      <th>1.0</th>\n",
       "      <td>0.370370</td>\n",
       "      <td>0.629630</td>\n",
       "    </tr>\n",
       "  </tbody>\n",
       "</table>\n",
       "</div>"
      ],
      "text/plain": [
       "col_0         0         1\n",
       "0                        \n",
       "0.0    0.708535  0.291465\n",
       "1.0    0.370370  0.629630"
      ]
     },
     "metadata": {},
     "output_type": "display_data"
    },
    {
     "data": {
      "text/html": [
       "<div>\n",
       "<style scoped>\n",
       "    .dataframe tbody tr th:only-of-type {\n",
       "        vertical-align: middle;\n",
       "    }\n",
       "\n",
       "    .dataframe tbody tr th {\n",
       "        vertical-align: top;\n",
       "    }\n",
       "\n",
       "    .dataframe thead th {\n",
       "        text-align: right;\n",
       "    }\n",
       "</style>\n",
       "<table border=\"1\" class=\"dataframe\">\n",
       "  <thead>\n",
       "    <tr style=\"text-align: right;\">\n",
       "      <th></th>\n",
       "      <th>value</th>\n",
       "    </tr>\n",
       "  </thead>\n",
       "  <tbody>\n",
       "    <tr>\n",
       "      <th>accuracy</th>\n",
       "      <td>0.669082</td>\n",
       "    </tr>\n",
       "    <tr>\n",
       "      <th>balanced_accuracy</th>\n",
       "      <td>0.669082</td>\n",
       "    </tr>\n",
       "    <tr>\n",
       "      <th>precision</th>\n",
       "      <td>0.683566</td>\n",
       "    </tr>\n",
       "    <tr>\n",
       "      <th>recall</th>\n",
       "      <td>0.629630</td>\n",
       "    </tr>\n",
       "    <tr>\n",
       "      <th>f1</th>\n",
       "      <td>0.655490</td>\n",
       "    </tr>\n",
       "    <tr>\n",
       "      <th>average_precision</th>\n",
       "      <td>0.674997</td>\n",
       "    </tr>\n",
       "    <tr>\n",
       "      <th>AUC</th>\n",
       "      <td>0.710184</td>\n",
       "    </tr>\n",
       "  </tbody>\n",
       "</table>\n",
       "</div>"
      ],
      "text/plain": [
       "                      value\n",
       "accuracy           0.669082\n",
       "balanced_accuracy  0.669082\n",
       "precision          0.683566\n",
       "recall             0.629630\n",
       "f1                 0.655490\n",
       "average_precision  0.674997\n",
       "AUC                0.710184"
      ]
     },
     "metadata": {},
     "output_type": "display_data"
    },
    {
     "name": "stdout",
     "output_type": "stream",
     "text": [
      "\n",
      "\n",
      "\n",
      "discount\n",
      "LinearLearner predictions\n"
     ]
    },
    {
     "data": {
      "image/png": "[encoded data removed]",
      "text/plain": [
       "<Figure size 432x288 with 1 Axes>"
      ]
     },
     "metadata": {
      "needs_background": "light"
     },
     "output_type": "display_data"
    },
    {
     "data": {
      "text/html": [
       "<div>\n",
       "<style scoped>\n",
       "    .dataframe tbody tr th:only-of-type {\n",
       "        vertical-align: middle;\n",
       "    }\n",
       "\n",
       "    .dataframe tbody tr th {\n",
       "        vertical-align: top;\n",
       "    }\n",
       "\n",
       "    .dataframe thead th {\n",
       "        text-align: right;\n",
       "    }\n",
       "</style>\n",
       "<table border=\"1\" class=\"dataframe\">\n",
       "  <thead>\n",
       "    <tr style=\"text-align: right;\">\n",
       "      <th>col_0</th>\n",
       "      <th>0</th>\n",
       "      <th>1</th>\n",
       "    </tr>\n",
       "    <tr>\n",
       "      <th>0</th>\n",
       "      <th></th>\n",
       "      <th></th>\n",
       "    </tr>\n",
       "  </thead>\n",
       "  <tbody>\n",
       "    <tr>\n",
       "      <th>0.0</th>\n",
       "      <td>0.439614</td>\n",
       "      <td>0.560386</td>\n",
       "    </tr>\n",
       "    <tr>\n",
       "      <th>1.0</th>\n",
       "      <td>0.132045</td>\n",
       "      <td>0.867955</td>\n",
       "    </tr>\n",
       "  </tbody>\n",
       "</table>\n",
       "</div>"
      ],
      "text/plain": [
       "col_0         0         1\n",
       "0                        \n",
       "0.0    0.439614  0.560386\n",
       "1.0    0.132045  0.867955"
      ]
     },
     "metadata": {},
     "output_type": "display_data"
    },
    {
     "data": {
      "text/html": [
       "<div>\n",
       "<style scoped>\n",
       "    .dataframe tbody tr th:only-of-type {\n",
       "        vertical-align: middle;\n",
       "    }\n",
       "\n",
       "    .dataframe tbody tr th {\n",
       "        vertical-align: top;\n",
       "    }\n",
       "\n",
       "    .dataframe thead th {\n",
       "        text-align: right;\n",
       "    }\n",
       "</style>\n",
       "<table border=\"1\" class=\"dataframe\">\n",
       "  <thead>\n",
       "    <tr style=\"text-align: right;\">\n",
       "      <th></th>\n",
       "      <th>value</th>\n",
       "    </tr>\n",
       "  </thead>\n",
       "  <tbody>\n",
       "    <tr>\n",
       "      <th>accuracy</th>\n",
       "      <td>0.653784</td>\n",
       "    </tr>\n",
       "    <tr>\n",
       "      <th>balanced_accuracy</th>\n",
       "      <td>0.653784</td>\n",
       "    </tr>\n",
       "    <tr>\n",
       "      <th>precision</th>\n",
       "      <td>0.607666</td>\n",
       "    </tr>\n",
       "    <tr>\n",
       "      <th>recall</th>\n",
       "      <td>0.867955</td>\n",
       "    </tr>\n",
       "    <tr>\n",
       "      <th>f1</th>\n",
       "      <td>0.714854</td>\n",
       "    </tr>\n",
       "    <tr>\n",
       "      <th>average_precision</th>\n",
       "      <td>0.706193</td>\n",
       "    </tr>\n",
       "    <tr>\n",
       "      <th>AUC</th>\n",
       "      <td>0.747288</td>\n",
       "    </tr>\n",
       "  </tbody>\n",
       "</table>\n",
       "</div>"
      ],
      "text/plain": [
       "                      value\n",
       "accuracy           0.653784\n",
       "balanced_accuracy  0.653784\n",
       "precision          0.607666\n",
       "recall             0.867955\n",
       "f1                 0.714854\n",
       "average_precision  0.706193\n",
       "AUC                0.747288"
      ]
     },
     "metadata": {},
     "output_type": "display_data"
    },
    {
     "name": "stdout",
     "output_type": "stream",
     "text": [
      "\n",
      "\n",
      "\n",
      "\n",
      "info\n",
      "XGBoost predictions\n"
     ]
    },
    {
     "data": {
      "image/png": "[encoded data removed]",
      "text/plain": [
       "<Figure size 432x288 with 1 Axes>"
      ]
     },
     "metadata": {
      "needs_background": "light"
     },
     "output_type": "display_data"
    },
    {
     "data": {
      "text/html": [
       "<div>\n",
       "<style scoped>\n",
       "    .dataframe tbody tr th:only-of-type {\n",
       "        vertical-align: middle;\n",
       "    }\n",
       "\n",
       "    .dataframe tbody tr th {\n",
       "        vertical-align: top;\n",
       "    }\n",
       "\n",
       "    .dataframe thead th {\n",
       "        text-align: right;\n",
       "    }\n",
       "</style>\n",
       "<table border=\"1\" class=\"dataframe\">\n",
       "  <thead>\n",
       "    <tr style=\"text-align: right;\">\n",
       "      <th>col_0</th>\n",
       "      <th>0</th>\n",
       "      <th>1</th>\n",
       "    </tr>\n",
       "    <tr>\n",
       "      <th>0</th>\n",
       "      <th></th>\n",
       "      <th></th>\n",
       "    </tr>\n",
       "  </thead>\n",
       "  <tbody>\n",
       "    <tr>\n",
       "      <th>0.0</th>\n",
       "      <td>0.667582</td>\n",
       "      <td>0.332418</td>\n",
       "    </tr>\n",
       "    <tr>\n",
       "      <th>1.0</th>\n",
       "      <td>0.548209</td>\n",
       "      <td>0.451791</td>\n",
       "    </tr>\n",
       "  </tbody>\n",
       "</table>\n",
       "</div>"
      ],
      "text/plain": [
       "col_0         0         1\n",
       "0                        \n",
       "0.0    0.667582  0.332418\n",
       "1.0    0.548209  0.451791"
      ]
     },
     "metadata": {},
     "output_type": "display_data"
    },
    {
     "data": {
      "text/html": [
       "<div>\n",
       "<style scoped>\n",
       "    .dataframe tbody tr th:only-of-type {\n",
       "        vertical-align: middle;\n",
       "    }\n",
       "\n",
       "    .dataframe tbody tr th {\n",
       "        vertical-align: top;\n",
       "    }\n",
       "\n",
       "    .dataframe thead th {\n",
       "        text-align: right;\n",
       "    }\n",
       "</style>\n",
       "<table border=\"1\" class=\"dataframe\">\n",
       "  <thead>\n",
       "    <tr style=\"text-align: right;\">\n",
       "      <th></th>\n",
       "      <th>value</th>\n",
       "    </tr>\n",
       "  </thead>\n",
       "  <tbody>\n",
       "    <tr>\n",
       "      <th>accuracy</th>\n",
       "      <td>0.559835</td>\n",
       "    </tr>\n",
       "    <tr>\n",
       "      <th>balanced_accuracy</th>\n",
       "      <td>0.559687</td>\n",
       "    </tr>\n",
       "    <tr>\n",
       "      <th>precision</th>\n",
       "      <td>0.575439</td>\n",
       "    </tr>\n",
       "    <tr>\n",
       "      <th>recall</th>\n",
       "      <td>0.451791</td>\n",
       "    </tr>\n",
       "    <tr>\n",
       "      <th>f1</th>\n",
       "      <td>0.506173</td>\n",
       "    </tr>\n",
       "    <tr>\n",
       "      <th>average_precision</th>\n",
       "      <td>0.572414</td>\n",
       "    </tr>\n",
       "    <tr>\n",
       "      <th>AUC</th>\n",
       "      <td>0.586603</td>\n",
       "    </tr>\n",
       "  </tbody>\n",
       "</table>\n",
       "</div>"
      ],
      "text/plain": [
       "                      value\n",
       "accuracy           0.559835\n",
       "balanced_accuracy  0.559687\n",
       "precision          0.575439\n",
       "recall             0.451791\n",
       "f1                 0.506173\n",
       "average_precision  0.572414\n",
       "AUC                0.586603"
      ]
     },
     "metadata": {},
     "output_type": "display_data"
    },
    {
     "name": "stdout",
     "output_type": "stream",
     "text": [
      "\n",
      "\n",
      "\n",
      "info\n",
      "LinearLearner predictions\n"
     ]
    },
    {
     "data": {
      "image/png": "[encoded data removed]",
      "text/plain": [
       "<Figure size 432x288 with 1 Axes>"
      ]
     },
     "metadata": {
      "needs_background": "light"
     },
     "output_type": "display_data"
    },
    {
     "data": {
      "text/html": [
       "<div>\n",
       "<style scoped>\n",
       "    .dataframe tbody tr th:only-of-type {\n",
       "        vertical-align: middle;\n",
       "    }\n",
       "\n",
       "    .dataframe tbody tr th {\n",
       "        vertical-align: top;\n",
       "    }\n",
       "\n",
       "    .dataframe thead th {\n",
       "        text-align: right;\n",
       "    }\n",
       "</style>\n",
       "<table border=\"1\" class=\"dataframe\">\n",
       "  <thead>\n",
       "    <tr style=\"text-align: right;\">\n",
       "      <th>col_0</th>\n",
       "      <th>0</th>\n",
       "      <th>1</th>\n",
       "    </tr>\n",
       "    <tr>\n",
       "      <th>0</th>\n",
       "      <th></th>\n",
       "      <th></th>\n",
       "    </tr>\n",
       "  </thead>\n",
       "  <tbody>\n",
       "    <tr>\n",
       "      <th>0.0</th>\n",
       "      <td>0.192308</td>\n",
       "      <td>0.807692</td>\n",
       "    </tr>\n",
       "    <tr>\n",
       "      <th>1.0</th>\n",
       "      <td>0.066116</td>\n",
       "      <td>0.933884</td>\n",
       "    </tr>\n",
       "  </tbody>\n",
       "</table>\n",
       "</div>"
      ],
      "text/plain": [
       "col_0         0         1\n",
       "0                        \n",
       "0.0    0.192308  0.807692\n",
       "1.0    0.066116  0.933884"
      ]
     },
     "metadata": {},
     "output_type": "display_data"
    },
    {
     "data": {
      "text/html": [
       "<div>\n",
       "<style scoped>\n",
       "    .dataframe tbody tr th:only-of-type {\n",
       "        vertical-align: middle;\n",
       "    }\n",
       "\n",
       "    .dataframe tbody tr th {\n",
       "        vertical-align: top;\n",
       "    }\n",
       "\n",
       "    .dataframe thead th {\n",
       "        text-align: right;\n",
       "    }\n",
       "</style>\n",
       "<table border=\"1\" class=\"dataframe\">\n",
       "  <thead>\n",
       "    <tr style=\"text-align: right;\">\n",
       "      <th></th>\n",
       "      <th>value</th>\n",
       "    </tr>\n",
       "  </thead>\n",
       "  <tbody>\n",
       "    <tr>\n",
       "      <th>accuracy</th>\n",
       "      <td>0.562586</td>\n",
       "    </tr>\n",
       "    <tr>\n",
       "      <th>balanced_accuracy</th>\n",
       "      <td>0.563096</td>\n",
       "    </tr>\n",
       "    <tr>\n",
       "      <th>precision</th>\n",
       "      <td>0.535545</td>\n",
       "    </tr>\n",
       "    <tr>\n",
       "      <th>recall</th>\n",
       "      <td>0.933884</td>\n",
       "    </tr>\n",
       "    <tr>\n",
       "      <th>f1</th>\n",
       "      <td>0.680723</td>\n",
       "    </tr>\n",
       "    <tr>\n",
       "      <th>average_precision</th>\n",
       "      <td>0.642065</td>\n",
       "    </tr>\n",
       "    <tr>\n",
       "      <th>AUC</th>\n",
       "      <td>0.671124</td>\n",
       "    </tr>\n",
       "  </tbody>\n",
       "</table>\n",
       "</div>"
      ],
      "text/plain": [
       "                      value\n",
       "accuracy           0.562586\n",
       "balanced_accuracy  0.563096\n",
       "precision          0.535545\n",
       "recall             0.933884\n",
       "f1                 0.680723\n",
       "average_precision  0.642065\n",
       "AUC                0.671124"
      ]
     },
     "metadata": {},
     "output_type": "display_data"
    },
    {
     "name": "stdout",
     "output_type": "stream",
     "text": [
      "\n",
      "\n",
      "\n",
      "\n"
     ]
    }
   ],
   "source": [
    "import json\n",
    "\n",
    "for prefix in ['bogo', 'discount', 'info']:\n",
    "    print(prefix)\n",
    "    y_test = pd.read_csv(f'./data/{prefix}/{prefix}_test_target.csv', squeeze=True, header=None)\n",
    "    \n",
    "    print('XGBoost predictions')\n",
    "    y_prob = pd.read_csv(f'./data/{prefix}/{prefix}_xgb_preds/{prefix}_test.csv.out', squeeze=True, header=None)\n",
    "    display(analyze_visualize_model(y_test, y_prob))\n",
    "      \n",
    "    print('\\n\\n')\n",
    "    print(prefix)\n",
    "    print('LinearLearner predictions')\n",
    "    with open(f'./data/{prefix}/{prefix}_linear_learner_model_preds/{prefix}_test.csv.out', 'r') as test_file:\n",
    "        jsons = [json.loads(x.replace('\\n', '')) for x in test_file.readlines()]\n",
    "    res = pd.DataFrame(jsons)\n",
    "    display(analyze_visualize_model(y_test, res['score'].values, y_pred=res['predicted_label'].values))\n",
    "      \n",
    "    print('\\n\\n\\n')"
   ]
  },
  {
   "cell_type": "markdown",
   "metadata": {},
   "source": [
    "For `bogo` and `discount` xgb model performs better than linear_learner, and for `info` linear_learner performs better than xgb"
   ]
  },
  {
   "cell_type": "code",
   "execution_count": null,
   "metadata": {},
   "outputs": [],
   "source": [
    "!tar chvfz project.tar.gz *"
   ]
  }
 ],
 "metadata": {
  "kernelspec": {
   "display_name": "conda_amazonei_mxnet_p36",
   "language": "python",
   "name": "conda_amazonei_mxnet_p36"
  },
  "language_info": {
   "codemirror_mode": {
    "name": "ipython",
    "version": 3
   },
   "file_extension": ".py",
   "mimetype": "text/x-python",
   "name": "python",
   "nbconvert_exporter": "python",
   "pygments_lexer": "ipython3",
   "version": "3.6.10"
  }
 },
 "nbformat": 4,
 "nbformat_minor": 4
}
